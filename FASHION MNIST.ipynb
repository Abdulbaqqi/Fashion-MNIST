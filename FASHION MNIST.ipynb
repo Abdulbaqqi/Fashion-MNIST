{
 "cells": [
  {
   "cell_type": "code",
   "execution_count": 1,
   "metadata": {},
   "outputs": [],
   "source": [
    "import pandas as pd\n",
    "import numpy as np\n",
    "import matplotlib.pyplot as plt\n",
    "%matplotlib inline"
   ]
  },
  {
   "cell_type": "markdown",
   "metadata": {},
   "source": [
    "# LABELS\n",
    "Each training and test example is assigned to one of the following labels:\n",
    "- 0 T-Shirt/top\n",
    "- 1 Trouser\n",
    "- 2 Pullover\n",
    "- 3 Dress\n",
    "- 4 Coat\n",
    "- 5 Sandal\n",
    "- 6 Shirt\n",
    "- 7 Sneaker\n",
    "- 8 Bag\n",
    "- 9 Angle boot"
   ]
  },
  {
   "cell_type": "code",
   "execution_count": 2,
   "metadata": {},
   "outputs": [
    {
     "name": "stdout",
     "output_type": "stream",
     "text": [
      "(60000, 28, 28, 1)\n",
      "(10000, 28, 28, 1)\n"
     ]
    }
   ],
   "source": [
    "img_rows, img_cols = 28, 28\n",
    "\n",
    "train_set = pd.read_csv('fashion-mnist_train.csv')\n",
    "test_set = pd.read_csv('fashion-mnist_test.csv')\n",
    "raw_train = np.array(train_set, dtype = 'float32')\n",
    "raw_test = np.array(test_set, dtype = 'float32')\n",
    "\n",
    "x_train = raw_train[:, 1:]/255.0\n",
    "y_train = raw_train[:, 0].astype('int32')\n",
    "\n",
    "x_test = raw_test[:, 1:]/255.0\n",
    "y_test = raw_test[:, 0].astype('int32')\n",
    "\n",
    "x_train = x_train.reshape(y_train.shape[0], img_rows, img_cols, 1)\n",
    "x_test = x_test.reshape(y_test.shape[0], img_rows, img_cols, 1)\n",
    "\n",
    "print(x_train.shape)\n",
    "print(x_test.shape)\n",
    "\n"
   ]
  },
  {
   "cell_type": "code",
   "execution_count": 3,
   "metadata": {},
   "outputs": [],
   "source": [
    "y_train_values = ['T-shirt/top', 'Trouser', 'Pullover', 'Dress', 'Coat', 'Sandal', 'Shirt',\n",
    "               'Sneaker', 'bag', 'Angle boot']"
   ]
  },
  {
   "cell_type": "code",
   "execution_count": 4,
   "metadata": {},
   "outputs": [
    {
     "data": {
      "text/plain": [
       "<matplotlib.image.AxesImage at 0x2866f8c0508>"
      ]
     },
     "execution_count": 4,
     "metadata": {},
     "output_type": "execute_result"
    },
    {
     "data": {
      "image/png": "[encoded data removed]",
      "text/plain": [
       "<Figure size 432x288 with 1 Axes>"
      ]
     },
     "metadata": {
      "needs_background": "light"
     },
     "output_type": "display_data"
    }
   ],
   "source": [
    "plt.imshow(x_train[50].reshape(28, 28))"
   ]
  },
  {
   "cell_type": "code",
   "execution_count": 5,
   "metadata": {},
   "outputs": [
    {
     "name": "stdout",
     "output_type": "stream",
     "text": [
      "5 ==> Sandal\n"
     ]
    }
   ],
   "source": [
    "print(f'{y_train[50]} ==> {y_train_values[y_train[50]]}')"
   ]
  },
  {
   "cell_type": "code",
   "execution_count": 6,
   "metadata": {},
   "outputs": [
    {
     "data": {
      "text/plain": [
       "<matplotlib.image.AxesImage at 0x286701d8808>"
      ]
     },
     "execution_count": 6,
     "metadata": {},
     "output_type": "execute_result"
    },
    {
     "data": {
      "image/png": "[encoded data removed]",
      "text/plain": [
       "<Figure size 432x288 with 1 Axes>"
      ]
     },
     "metadata": {
      "needs_background": "light"
     },
     "output_type": "display_data"
    }
   ],
   "source": [
    "plt.imshow(x_train[10].reshape(28, 28))"
   ]
  },
  {
   "cell_type": "code",
   "execution_count": 7,
   "metadata": {},
   "outputs": [
    {
     "name": "stdout",
     "output_type": "stream",
     "text": [
      "0 ==> T-shirt/top\n"
     ]
    }
   ],
   "source": [
    "print(f'{y_train[10]} ==> {y_train_values[y_train[10]]}')"
   ]
  },
  {
   "cell_type": "code",
   "execution_count": 8,
   "metadata": {},
   "outputs": [],
   "source": [
    "#creating validation set from the train set\n",
    "\n",
    "from sklearn.model_selection import train_test_split\n",
    "\n",
    "x_train = train_set.drop('label', axis=1)\n",
    "y_train = train_set['label'].copy()\n",
    "X_train, X_val, y_train, y_val = train_test_split(x_train, y_train, test_size=0.2, random_state=42)"
   ]
  },
  {
   "cell_type": "code",
   "execution_count": 9,
   "metadata": {},
   "outputs": [
    {
     "name": "stdout",
     "output_type": "stream",
     "text": [
      "Length of Train set: 48000\n",
      "Length of Validation set: 12000\n"
     ]
    }
   ],
   "source": [
    "print(f'Length of Train set: {len(X_train)}')\n",
    "print(f'Length of Validation set: {len(X_val)}')#20% of the train set\n"
   ]
  },
  {
   "cell_type": "code",
   "execution_count": 10,
   "metadata": {},
   "outputs": [
    {
     "data": {
      "text/html": [
       "<div>\n",
       "<style scoped>\n",
       "    .dataframe tbody tr th:only-of-type {\n",
       "        vertical-align: middle;\n",
       "    }\n",
       "\n",
       "    .dataframe tbody tr th {\n",
       "        vertical-align: top;\n",
       "    }\n",
       "\n",
       "    .dataframe thead th {\n",
       "        text-align: right;\n",
       "    }\n",
       "</style>\n",
       "<table border=\"1\" class=\"dataframe\">\n",
       "  <thead>\n",
       "    <tr style=\"text-align: right;\">\n",
       "      <th></th>\n",
       "      <th>pixel1</th>\n",
       "      <th>pixel2</th>\n",
       "      <th>pixel3</th>\n",
       "      <th>pixel4</th>\n",
       "      <th>pixel5</th>\n",
       "      <th>pixel6</th>\n",
       "      <th>pixel7</th>\n",
       "      <th>pixel8</th>\n",
       "      <th>pixel9</th>\n",
       "      <th>pixel10</th>\n",
       "      <th>...</th>\n",
       "      <th>pixel775</th>\n",
       "      <th>pixel776</th>\n",
       "      <th>pixel777</th>\n",
       "      <th>pixel778</th>\n",
       "      <th>pixel779</th>\n",
       "      <th>pixel780</th>\n",
       "      <th>pixel781</th>\n",
       "      <th>pixel782</th>\n",
       "      <th>pixel783</th>\n",
       "      <th>pixel784</th>\n",
       "    </tr>\n",
       "  </thead>\n",
       "  <tbody>\n",
       "    <tr>\n",
       "      <th>48572</th>\n",
       "      <td>0</td>\n",
       "      <td>0</td>\n",
       "      <td>0</td>\n",
       "      <td>0</td>\n",
       "      <td>0</td>\n",
       "      <td>0</td>\n",
       "      <td>0</td>\n",
       "      <td>0</td>\n",
       "      <td>0</td>\n",
       "      <td>0</td>\n",
       "      <td>...</td>\n",
       "      <td>0</td>\n",
       "      <td>0</td>\n",
       "      <td>0</td>\n",
       "      <td>0</td>\n",
       "      <td>0</td>\n",
       "      <td>0</td>\n",
       "      <td>0</td>\n",
       "      <td>0</td>\n",
       "      <td>0</td>\n",
       "      <td>0</td>\n",
       "    </tr>\n",
       "    <tr>\n",
       "      <th>38696</th>\n",
       "      <td>0</td>\n",
       "      <td>0</td>\n",
       "      <td>0</td>\n",
       "      <td>0</td>\n",
       "      <td>0</td>\n",
       "      <td>0</td>\n",
       "      <td>0</td>\n",
       "      <td>0</td>\n",
       "      <td>0</td>\n",
       "      <td>0</td>\n",
       "      <td>...</td>\n",
       "      <td>0</td>\n",
       "      <td>0</td>\n",
       "      <td>0</td>\n",
       "      <td>0</td>\n",
       "      <td>0</td>\n",
       "      <td>0</td>\n",
       "      <td>0</td>\n",
       "      <td>0</td>\n",
       "      <td>0</td>\n",
       "      <td>0</td>\n",
       "    </tr>\n",
       "    <tr>\n",
       "      <th>13611</th>\n",
       "      <td>0</td>\n",
       "      <td>0</td>\n",
       "      <td>0</td>\n",
       "      <td>0</td>\n",
       "      <td>0</td>\n",
       "      <td>0</td>\n",
       "      <td>0</td>\n",
       "      <td>0</td>\n",
       "      <td>0</td>\n",
       "      <td>0</td>\n",
       "      <td>...</td>\n",
       "      <td>0</td>\n",
       "      <td>0</td>\n",
       "      <td>0</td>\n",
       "      <td>0</td>\n",
       "      <td>0</td>\n",
       "      <td>0</td>\n",
       "      <td>0</td>\n",
       "      <td>0</td>\n",
       "      <td>0</td>\n",
       "      <td>0</td>\n",
       "    </tr>\n",
       "    <tr>\n",
       "      <th>35213</th>\n",
       "      <td>0</td>\n",
       "      <td>0</td>\n",
       "      <td>0</td>\n",
       "      <td>0</td>\n",
       "      <td>0</td>\n",
       "      <td>0</td>\n",
       "      <td>0</td>\n",
       "      <td>0</td>\n",
       "      <td>0</td>\n",
       "      <td>0</td>\n",
       "      <td>...</td>\n",
       "      <td>0</td>\n",
       "      <td>0</td>\n",
       "      <td>0</td>\n",
       "      <td>0</td>\n",
       "      <td>0</td>\n",
       "      <td>0</td>\n",
       "      <td>0</td>\n",
       "      <td>0</td>\n",
       "      <td>0</td>\n",
       "      <td>0</td>\n",
       "    </tr>\n",
       "    <tr>\n",
       "      <th>31766</th>\n",
       "      <td>0</td>\n",
       "      <td>0</td>\n",
       "      <td>0</td>\n",
       "      <td>0</td>\n",
       "      <td>0</td>\n",
       "      <td>0</td>\n",
       "      <td>0</td>\n",
       "      <td>0</td>\n",
       "      <td>1</td>\n",
       "      <td>0</td>\n",
       "      <td>...</td>\n",
       "      <td>0</td>\n",
       "      <td>0</td>\n",
       "      <td>1</td>\n",
       "      <td>0</td>\n",
       "      <td>11</td>\n",
       "      <td>37</td>\n",
       "      <td>6</td>\n",
       "      <td>0</td>\n",
       "      <td>0</td>\n",
       "      <td>0</td>\n",
       "    </tr>\n",
       "  </tbody>\n",
       "</table>\n",
       "<p>5 rows × 784 columns</p>\n",
       "</div>"
      ],
      "text/plain": [
       "       pixel1  pixel2  pixel3  pixel4  pixel5  pixel6  pixel7  pixel8  pixel9  \\\n",
       "48572       0       0       0       0       0       0       0       0       0   \n",
       "38696       0       0       0       0       0       0       0       0       0   \n",
       "13611       0       0       0       0       0       0       0       0       0   \n",
       "35213       0       0       0       0       0       0       0       0       0   \n",
       "31766       0       0       0       0       0       0       0       0       1   \n",
       "\n",
       "       pixel10  ...  pixel775  pixel776  pixel777  pixel778  pixel779  \\\n",
       "48572        0  ...         0         0         0         0         0   \n",
       "38696        0  ...         0         0         0         0         0   \n",
       "13611        0  ...         0         0         0         0         0   \n",
       "35213        0  ...         0         0         0         0         0   \n",
       "31766        0  ...         0         0         1         0        11   \n",
       "\n",
       "       pixel780  pixel781  pixel782  pixel783  pixel784  \n",
       "48572         0         0         0         0         0  \n",
       "38696         0         0         0         0         0  \n",
       "13611         0         0         0         0         0  \n",
       "35213         0         0         0         0         0  \n",
       "31766        37         6         0         0         0  \n",
       "\n",
       "[5 rows x 784 columns]"
      ]
     },
     "execution_count": 10,
     "metadata": {},
     "output_type": "execute_result"
    }
   ],
   "source": [
    "X_train.head()"
   ]
  },
  {
   "cell_type": "code",
   "execution_count": 11,
   "metadata": {},
   "outputs": [
    {
     "data": {
      "text/plain": [
       "48572    5\n",
       "38696    7\n",
       "13611    8\n",
       "35213    5\n",
       "31766    2\n",
       "Name: label, dtype: int64"
      ]
     },
     "execution_count": 11,
     "metadata": {},
     "output_type": "execute_result"
    }
   ],
   "source": [
    "y_train.head()"
   ]
  },
  {
   "cell_type": "code",
   "execution_count": 12,
   "metadata": {},
   "outputs": [
    {
     "name": "stdout",
     "output_type": "stream",
     "text": [
      "<class 'pandas.core.frame.DataFrame'>\n",
      "Int64Index: 48000 entries, 48572 to 56422\n",
      "Columns: 784 entries, pixel1 to pixel784\n",
      "dtypes: int64(784)\n",
      "memory usage: 287.5 MB\n"
     ]
    }
   ],
   "source": [
    "X_train.info()"
   ]
  },
  {
   "cell_type": "code",
   "execution_count": 13,
   "metadata": {},
   "outputs": [
    {
     "name": "stdout",
     "output_type": "stream",
     "text": [
      "<class 'pandas.core.frame.DataFrame'>\n",
      "Int64Index: 12000 entries, 12628 to 36568\n",
      "Columns: 784 entries, pixel1 to pixel784\n",
      "dtypes: int64(784)\n",
      "memory usage: 71.9 MB\n"
     ]
    }
   ],
   "source": [
    "X_val.info()"
   ]
  },
  {
   "cell_type": "code",
   "execution_count": 14,
   "metadata": {},
   "outputs": [
    {
     "name": "stderr",
     "output_type": "stream",
     "text": [
      "c:\\users\\david\\appdata\\local\\programs\\python\\python37\\lib\\site-packages\\sklearn\\linear_model\\_logistic.py:940: ConvergenceWarning: lbfgs failed to converge (status=1):\n",
      "STOP: TOTAL NO. of ITERATIONS REACHED LIMIT.\n",
      "\n",
      "Increase the number of iterations (max_iter) or scale the data as shown in:\n",
      "    https://scikit-learn.org/stable/modules/preprocessing.html\n",
      "Please also refer to the documentation for alternative solver options:\n",
      "    https://scikit-learn.org/stable/modules/linear_model.html#logistic-regression\n",
      "  extra_warning_msg=_LOGISTIC_SOLVER_CONVERGENCE_MSG)\n",
      "c:\\users\\david\\appdata\\local\\programs\\python\\python37\\lib\\site-packages\\sklearn\\linear_model\\_stochastic_gradient.py:557: ConvergenceWarning: Maximum number of iteration reached before convergence. Consider increasing max_iter to improve the fit.\n",
      "  ConvergenceWarning)\n"
     ]
    },
    {
     "data": {
      "text/plain": [
       "RandomForestClassifier(bootstrap=True, ccp_alpha=0.0, class_weight=None,\n",
       "                       criterion='gini', max_depth=None, max_features='auto',\n",
       "                       max_leaf_nodes=None, max_samples=None,\n",
       "                       min_impurity_decrease=0.0, min_impurity_split=None,\n",
       "                       min_samples_leaf=1, min_samples_split=2,\n",
       "                       min_weight_fraction_leaf=0.0, n_estimators=100,\n",
       "                       n_jobs=None, oob_score=False, random_state=None,\n",
       "                       verbose=0, warm_start=False)"
      ]
     },
     "execution_count": 14,
     "metadata": {},
     "output_type": "execute_result"
    }
   ],
   "source": [
    "#scaling the train set\n",
    "from sklearn.preprocessing import StandardScaler\n",
    "scaler = StandardScaler()\n",
    "\n",
    "X_train_scaled = scaler.fit_transform(X_train)\n",
    "\n",
    "#training with logistic regression\n",
    "from sklearn.linear_model import LogisticRegression\n",
    "softmax = LogisticRegression(multi_class ='multinomial', solver='lbfgs', C=10)\n",
    "softmax.fit(X_train_scaled, y_train)\n",
    "    \n",
    "    \n",
    "#training with SGDCLASSIFIER\n",
    "from sklearn.linear_model import SGDClassifier\n",
    "sgd = SGDClassifier()\n",
    "sgd.fit(X_train_scaled, y_train)\n",
    "    \n",
    "#training with DecisionTreeClassifier\n",
    "from sklearn.tree import DecisionTreeClassifier\n",
    "tree = DecisionTreeClassifier()\n",
    "tree.fit(X_train_scaled, y_train)\n",
    "    \n",
    "#training with RandomForestClassifier\n",
    "from sklearn.ensemble import RandomForestClassifier\n",
    "forest = RandomForestClassifier()\n",
    "forest.fit(X_train_scaled, y_train)"
   ]
  },
  {
   "cell_type": "code",
   "execution_count": 15,
   "metadata": {},
   "outputs": [
    {
     "name": "stdout",
     "output_type": "stream",
     "text": [
      "SOFTMAX REGRESSION TESTING ACCURACY: 88.02499999999999%\n",
      "SGD CLASSIFIER TESTING ACCURACY: 85.03958333333334%\n",
      "DECISION TREE TESTING ACCURACY: 100.0%\n",
      "RANDOMFOREST TESTING ACCURACY: 100.0%\n"
     ]
    }
   ],
   "source": [
    "print(f'SOFTMAX REGRESSION TESTING ACCURACY: {(softmax.score(X_train_scaled, y_train)*100)}%')\n",
    "print(f'SGD CLASSIFIER TESTING ACCURACY: {(sgd.score(X_train_scaled, y_train)*100)}%')\n",
    "print(f'DECISION TREE TESTING ACCURACY: {(tree.score(X_train_scaled, y_train)*100)}%')\n",
    "print(f'RANDOMFOREST TESTING ACCURACY: {(forest.score(X_train_scaled, y_train)*100)}%')"
   ]
  },
  {
   "cell_type": "markdown",
   "metadata": {},
   "source": [
    "## Cross Validation Scores "
   ]
  },
  {
   "cell_type": "code",
   "execution_count": 16,
   "metadata": {},
   "outputs": [
    {
     "name": "stderr",
     "output_type": "stream",
     "text": [
      "c:\\users\\david\\appdata\\local\\programs\\python\\python37\\lib\\site-packages\\sklearn\\linear_model\\_logistic.py:940: ConvergenceWarning: lbfgs failed to converge (status=1):\n",
      "STOP: TOTAL NO. of ITERATIONS REACHED LIMIT.\n",
      "\n",
      "Increase the number of iterations (max_iter) or scale the data as shown in:\n",
      "    https://scikit-learn.org/stable/modules/preprocessing.html\n",
      "Please also refer to the documentation for alternative solver options:\n",
      "    https://scikit-learn.org/stable/modules/linear_model.html#logistic-regression\n",
      "  extra_warning_msg=_LOGISTIC_SOLVER_CONVERGENCE_MSG)\n",
      "c:\\users\\david\\appdata\\local\\programs\\python\\python37\\lib\\site-packages\\sklearn\\linear_model\\_logistic.py:940: ConvergenceWarning: lbfgs failed to converge (status=1):\n",
      "STOP: TOTAL NO. of ITERATIONS REACHED LIMIT.\n",
      "\n",
      "Increase the number of iterations (max_iter) or scale the data as shown in:\n",
      "    https://scikit-learn.org/stable/modules/preprocessing.html\n",
      "Please also refer to the documentation for alternative solver options:\n",
      "    https://scikit-learn.org/stable/modules/linear_model.html#logistic-regression\n",
      "  extra_warning_msg=_LOGISTIC_SOLVER_CONVERGENCE_MSG)\n",
      "c:\\users\\david\\appdata\\local\\programs\\python\\python37\\lib\\site-packages\\sklearn\\linear_model\\_logistic.py:940: ConvergenceWarning: lbfgs failed to converge (status=1):\n",
      "STOP: TOTAL NO. of ITERATIONS REACHED LIMIT.\n",
      "\n",
      "Increase the number of iterations (max_iter) or scale the data as shown in:\n",
      "    https://scikit-learn.org/stable/modules/preprocessing.html\n",
      "Please also refer to the documentation for alternative solver options:\n",
      "    https://scikit-learn.org/stable/modules/linear_model.html#logistic-regression\n",
      "  extra_warning_msg=_LOGISTIC_SOLVER_CONVERGENCE_MSG)\n",
      "c:\\users\\david\\appdata\\local\\programs\\python\\python37\\lib\\site-packages\\sklearn\\linear_model\\_stochastic_gradient.py:557: ConvergenceWarning: Maximum number of iteration reached before convergence. Consider increasing max_iter to improve the fit.\n",
      "  ConvergenceWarning)\n",
      "c:\\users\\david\\appdata\\local\\programs\\python\\python37\\lib\\site-packages\\sklearn\\linear_model\\_stochastic_gradient.py:557: ConvergenceWarning: Maximum number of iteration reached before convergence. Consider increasing max_iter to improve the fit.\n",
      "  ConvergenceWarning)\n",
      "c:\\users\\david\\appdata\\local\\programs\\python\\python37\\lib\\site-packages\\sklearn\\linear_model\\_stochastic_gradient.py:557: ConvergenceWarning: Maximum number of iteration reached before convergence. Consider increasing max_iter to improve the fit.\n",
      "  ConvergenceWarning)\n"
     ]
    },
    {
     "name": "stdout",
     "output_type": "stream",
     "text": [
      "SOFTMAX REGRESSION CROSS VALIDATION\n",
      "\n",
      "Scores: [0.8456875 0.836     0.843625 ]\n",
      "Mean: 0.8417708333333334\n",
      "Standard Deviation: 0.004166562498697905\n",
      "====================\n",
      "SGDCLASSIFIER CROSS VALIDATION\n",
      "\n",
      "Scores: [0.8318125 0.8325    0.8293125]\n",
      "Mean: 0.8312083333333332\n",
      "Standard Deviation: 0.0013696233261577952\n",
      "DECISION TREE CROSS VALIDATION\n",
      "\n",
      "Scores: [0.7864375 0.7830625 0.7825625]\n",
      "Mean: 0.7840208333333334\n",
      "Standard Deviation: 0.0017209897023386074\n",
      "====================\n",
      "RANDOMFOREST CROSS VALIDATION\n",
      "\n",
      "Scores: [0.87875   0.875375  0.8761875]\n",
      "Mean: 0.8767708333333334\n",
      "Standard Deviation: 0.001438254632841109\n"
     ]
    }
   ],
   "source": [
    "from sklearn.model_selection import cross_val_score\n",
    "softmax_scores = cross_val_score(softmax, X_train_scaled, y_train, cv=3, scoring='accuracy')\n",
    "\n",
    "sgd_scores = cross_val_score(sgd, X_train_scaled, y_train, cv=3, scoring='accuracy')\n",
    "\n",
    "tree_scores = cross_val_score(tree, X_train_scaled, y_train, cv=3, scoring='accuracy')\n",
    "\n",
    "forest_scores = cross_val_score(forest, X_train_scaled, y_train, cv=3, scoring='accuracy')\n",
    "\n",
    "\n",
    "print('SOFTMAX REGRESSION CROSS VALIDATION\\n')\n",
    "print('Scores:', softmax_scores)\n",
    "print('Mean:', softmax_scores.mean())\n",
    "print('Standard Deviation:', softmax_scores.std())\n",
    "print('='*20)\n",
    "print('SGDCLASSIFIER CROSS VALIDATION\\n')\n",
    "print('Scores:', sgd_scores)\n",
    "print('Mean:', sgd_scores.mean())\n",
    "print('Standard Deviation:', sgd_scores.std())\n",
    "print('DECISION TREE CROSS VALIDATION\\n')\n",
    "print('Scores:', tree_scores)\n",
    "print('Mean:', tree_scores.mean())\n",
    "print('Standard Deviation:', tree_scores.std())\n",
    "print('='*20)\n",
    "print('RANDOMFOREST CROSS VALIDATION\\n')\n",
    "print('Scores:', forest_scores)\n",
    "print('Mean:', forest_scores.mean())\n",
    "print('Standard Deviation:', forest_scores.std())"
   ]
  },
  {
   "cell_type": "code",
   "execution_count": 17,
   "metadata": {},
   "outputs": [
    {
     "data": {
      "text/plain": [
       "['fashion_mnist_forest_clf.pkl']"
      ]
     },
     "execution_count": 17,
     "metadata": {},
     "output_type": "execute_result"
    }
   ],
   "source": [
    "#saving the models\n",
    "import joblib\n",
    "\n",
    "#softmax\n",
    "joblib.dump(softmax, 'fashion_mnist_softmax_clf.pkl')\n",
    "\n",
    "#sgd\n",
    "joblib.dump(sgd, 'fashion_mnist_sgd_clf.pkl')\n",
    "\n",
    "#tree\n",
    "joblib.dump(tree, 'fashion_mnist_tree_clf.pkl')\n",
    "\n",
    "#forest\n",
    "joblib.dump(forest, 'fashion_mnist_forest_clf.pkl')"
   ]
  },
  {
   "cell_type": "code",
   "execution_count": 18,
   "metadata": {},
   "outputs": [
    {
     "name": "stderr",
     "output_type": "stream",
     "text": [
      "c:\\users\\david\\appdata\\local\\programs\\python\\python37\\lib\\site-packages\\sklearn\\linear_model\\_logistic.py:940: ConvergenceWarning: lbfgs failed to converge (status=1):\n",
      "STOP: TOTAL NO. of ITERATIONS REACHED LIMIT.\n",
      "\n",
      "Increase the number of iterations (max_iter) or scale the data as shown in:\n",
      "    https://scikit-learn.org/stable/modules/preprocessing.html\n",
      "Please also refer to the documentation for alternative solver options:\n",
      "    https://scikit-learn.org/stable/modules/linear_model.html#logistic-regression\n",
      "  extra_warning_msg=_LOGISTIC_SOLVER_CONVERGENCE_MSG)\n",
      "c:\\users\\david\\appdata\\local\\programs\\python\\python37\\lib\\site-packages\\sklearn\\linear_model\\_logistic.py:940: ConvergenceWarning: lbfgs failed to converge (status=1):\n",
      "STOP: TOTAL NO. of ITERATIONS REACHED LIMIT.\n",
      "\n",
      "Increase the number of iterations (max_iter) or scale the data as shown in:\n",
      "    https://scikit-learn.org/stable/modules/preprocessing.html\n",
      "Please also refer to the documentation for alternative solver options:\n",
      "    https://scikit-learn.org/stable/modules/linear_model.html#logistic-regression\n",
      "  extra_warning_msg=_LOGISTIC_SOLVER_CONVERGENCE_MSG)\n",
      "c:\\users\\david\\appdata\\local\\programs\\python\\python37\\lib\\site-packages\\sklearn\\linear_model\\_logistic.py:940: ConvergenceWarning: lbfgs failed to converge (status=1):\n",
      "STOP: TOTAL NO. of ITERATIONS REACHED LIMIT.\n",
      "\n",
      "Increase the number of iterations (max_iter) or scale the data as shown in:\n",
      "    https://scikit-learn.org/stable/modules/preprocessing.html\n",
      "Please also refer to the documentation for alternative solver options:\n",
      "    https://scikit-learn.org/stable/modules/linear_model.html#logistic-regression\n",
      "  extra_warning_msg=_LOGISTIC_SOLVER_CONVERGENCE_MSG)\n",
      "c:\\users\\david\\appdata\\local\\programs\\python\\python37\\lib\\site-packages\\sklearn\\linear_model\\_stochastic_gradient.py:557: ConvergenceWarning: Maximum number of iteration reached before convergence. Consider increasing max_iter to improve the fit.\n",
      "  ConvergenceWarning)\n",
      "c:\\users\\david\\appdata\\local\\programs\\python\\python37\\lib\\site-packages\\sklearn\\linear_model\\_stochastic_gradient.py:557: ConvergenceWarning: Maximum number of iteration reached before convergence. Consider increasing max_iter to improve the fit.\n",
      "  ConvergenceWarning)\n",
      "c:\\users\\david\\appdata\\local\\programs\\python\\python37\\lib\\site-packages\\sklearn\\linear_model\\_stochastic_gradient.py:557: ConvergenceWarning: Maximum number of iteration reached before convergence. Consider increasing max_iter to improve the fit.\n",
      "  ConvergenceWarning)\n"
     ]
    }
   ],
   "source": [
    "from sklearn.metrics import confusion_matrix\n",
    "from sklearn.model_selection import cross_val_predict\n",
    "\n",
    "softmax_predictions = cross_val_predict(softmax, X_train_scaled, y_train, cv=3)\n",
    "softmax_confusion_matrix = confusion_matrix(y_train, softmax_predictions)\n",
    "\n",
    "sgd_predictions = cross_val_predict(sgd, X_train_scaled, y_train, cv=3)\n",
    "sgd_confusion_matrix = confusion_matrix(y_train, sgd_predictions)\n",
    "\n",
    "tree_predictions = cross_val_predict(tree, X_train_scaled, y_train, cv=3)\n",
    "tree_confusion_matrix = confusion_matrix(y_train, tree_predictions)\n",
    "\n",
    "forest_predictions = cross_val_predict(forest, X_train_scaled, y_train, cv=3)\n",
    "forest_confusion_matrix = confusion_matrix(y_train, forest_predictions)"
   ]
  },
  {
   "cell_type": "code",
   "execution_count": 19,
   "metadata": {},
   "outputs": [
    {
     "name": "stdout",
     "output_type": "stream",
     "text": [
      "LOGISTIC REGRESSION(SOFTMAX) CONFUSION MATRIX: \n",
      " [[3850   23  101  230   23    7  462    5   64    3]\n",
      " [  19 4663   23   87   13    0   15    2    4    0]\n",
      " [ 104   18 3539   62  559    8  472    4   33    1]\n",
      " [ 196   68   59 4086  156    2  161    5   23    2]\n",
      " [  22   12  474  187 3638    2  449    0   31    0]\n",
      " [   3    1    1    6    0 4481    6  204   44  113]\n",
      " [ 677   14  549  175  478    3 2765    4   87    5]\n",
      " [   0    0    1    0    0  191    0 4388   16  180]\n",
      " [  41    7   36   42   37   41  102   36 4490   19]\n",
      " [   0    0    0    1    0   97    0  180    7 4505]]\n",
      "-------------------------------------------------------------------------------\n",
      "SGD CLASSIFIER CONFUSION MATRIX: \n",
      " [[3720   17   82  373   24    1  475    0   76    0]\n",
      " [  14 4571   30  161   15    0   31    0    4    0]\n",
      " [  35    6 3454   97  626    0  533    1   48    0]\n",
      " [ 177   69   65 4117  150    0  169    0   11    0]\n",
      " [   5    4  511  315 3532    0  430    0   18    0]\n",
      " [   2    1    2    9    0 4472   13  210   61   89]\n",
      " [ 624   12  525  330  444    0 2673    1  148    0]\n",
      " [   0    0    0    0    0  207    0 4349   16  204]\n",
      " [  17    4   23  108   22    3  106   26 4537    5]\n",
      " [   0    0    0    4    1   98    5  183    2 4497]]\n",
      "-------------------------------------------------------------------------------\n",
      "DECISIONTREE CLASSIFIER CONFUSION MATRIX: \n",
      " [[3486   32  116  244   48   10  765    4   56    7]\n",
      " [  33 4564   20  129   29    4   35    0   11    1]\n",
      " [ 106   17 3218   76  696    7  605    1   65    9]\n",
      " [ 261  138   90 3716  281   12  209    1   47    3]\n",
      " [  55   22  763  258 3080    6  559    0   68    4]\n",
      " [  14    3   10   13    2 4244   15  289   86  183]\n",
      " [ 727   35  581  210  582    8 2484    1  123    6]\n",
      " [   1    1    0    3    0  281    2 4112   24  352]\n",
      " [  51   19   67   41   50   92  135   32 4333   31]\n",
      " [   9    0    8    9    5  118    7  317   20 4297]]\n",
      "-------------------------------------------------------------------------------\n",
      "RANDOMFOREST CLASSIFIER CONFUSION MATRIX: \n",
      " [[4086    7   70  163   19    3  374    0   45    1]\n",
      " [  12 4644   26  108    8    0   25    0    3    0]\n",
      " [  42    0 3894   37  557    1  239    0   30    0]\n",
      " [ 101   14   40 4349  140    0  105    0    9    0]\n",
      " [   8    7  380  202 3993    1  211    0   13    0]\n",
      " [   0    0    0    4    0 4644    0  147   17   47]\n",
      " [ 771    6  564  130  443    1 2759    0   83    0]\n",
      " [   0    0    0    0    0   92    0 4447    7  230]\n",
      " [   8    5   21   15   19   19   49    7 4702    6]\n",
      " [   0    0    0    1    1   48    2  174    5 4559]]\n",
      "-------------------------------------------------------------------------------\n"
     ]
    }
   ],
   "source": [
    "\n",
    "print('LOGISTIC REGRESSION(SOFTMAX) CONFUSION MATRIX: \\n', softmax_confusion_matrix)\n",
    "print('-------------------------------------------------------------------------------')\n",
    "print('SGD CLASSIFIER CONFUSION MATRIX: \\n', sgd_confusion_matrix)\n",
    "print('-------------------------------------------------------------------------------')\n",
    "print('DECISIONTREE CLASSIFIER CONFUSION MATRIX: \\n', tree_confusion_matrix)\n",
    "print('-------------------------------------------------------------------------------')\n",
    "print('RANDOMFOREST CLASSIFIER CONFUSION MATRIX: \\n', forest_confusion_matrix)\n",
    "print('-------------------------------------------------------------------------------')"
   ]
  },
  {
   "cell_type": "code",
   "execution_count": null,
   "metadata": {},
   "outputs": [],
   "source": []
  },
  {
   "cell_type": "code",
   "execution_count": 20,
   "metadata": {},
   "outputs": [
    {
     "data": {
      "text/plain": [
       "<matplotlib.image.AxesImage at 0x2863dad2c48>"
      ]
     },
     "execution_count": 20,
     "metadata": {},
     "output_type": "execute_result"
    },
    {
     "data": {
      "image/png": "[encoded data removed]",
      "text/plain": [
       "<Figure size 288x288 with 1 Axes>"
      ]
     },
     "metadata": {
      "needs_background": "light"
     },
     "output_type": "display_data"
    }
   ],
   "source": [
    "#lets take a look at image representation of the confusion matrix for RandomForestClassifier Model\n",
    "#using the matplotlib's matshow() function\n",
    "\n",
    "plt.matshow(forest_confusion_matrix, cmap=plt.cm.gray)"
   ]
  },
  {
   "cell_type": "markdown",
   "metadata": {},
   "source": [
    "from above the confusion matrix looks fairly good since most images are on the main diagonal, i.e they were classified correctly.\n",
    "some look slightly darker like the 6 than the other, which could be that the model doesn't perform well on them or there are fewer images of 6 in the dateset.\n",
    "we can verify both focusing on only the error as shown below"
   ]
  },
  {
   "cell_type": "code",
   "execution_count": 21,
   "metadata": {},
   "outputs": [
    {
     "data": {
      "text/plain": [
       "<matplotlib.image.AxesImage at 0x2866ffcf888>"
      ]
     },
     "execution_count": 21,
     "metadata": {},
     "output_type": "execute_result"
    },
    {
     "data": {
      "image/png": "[encoded data removed]",
      "text/plain": [
       "<Figure size 288x288 with 1 Axes>"
      ]
     },
     "metadata": {
      "needs_background": "light"
     },
     "output_type": "display_data"
    }
   ],
   "source": [
    "row_sums = forest_confusion_matrix.sum(axis=1, keepdims=True)\n",
    "norm_conf_mx = forest_confusion_matrix / row_sums\n",
    "\n",
    "np.fill_diagonal(norm_conf_mx, 0)\n",
    "plt.matshow(norm_conf_mx, cmap=plt.cm.gray)"
   ]
  },
  {
   "cell_type": "markdown",
   "metadata": {},
   "source": [
    "the image representation above clearly show the errors the randomforest classifier makes.\n",
    "Rows represent the actual class\n",
    "Columns represent the predicted classes\n",
    "row 6 shows that there were fewer classes of values assigned to 6's is the dataset"
   ]
  },
  {
   "cell_type": "markdown",
   "metadata": {},
   "source": [
    "## Fitting the RandomForestClassifier on the Validation set"
   ]
  },
  {
   "cell_type": "code",
   "execution_count": 22,
   "metadata": {},
   "outputs": [],
   "source": [
    "X_val_scaled = scaler.transform(X_val)"
   ]
  },
  {
   "cell_type": "code",
   "execution_count": 23,
   "metadata": {},
   "outputs": [],
   "source": [
    "y_val_predictions = forest.predict(X_val_scaled)"
   ]
  },
  {
   "cell_type": "code",
   "execution_count": 24,
   "metadata": {},
   "outputs": [
    {
     "name": "stdout",
     "output_type": "stream",
     "text": [
      "Scores: [0.85475 0.84225 0.851  ]\n",
      "Mean: 0.8493333333333334\n",
      "Standard Deviation: 0.0052374187874901995\n",
      "\n",
      "\n"
     ]
    }
   ],
   "source": [
    "val_scores = cross_val_score(forest, X_val_scaled, y_val, cv=3, scoring='accuracy')\n",
    "\n",
    "print('Scores:', val_scores)\n",
    "print('Mean:', val_scores.mean())\n",
    "print('Standard Deviation:', val_scores.std())\n",
    "print('\\n')\n"
   ]
  },
  {
   "cell_type": "code",
   "execution_count": 25,
   "metadata": {},
   "outputs": [
    {
     "data": {
      "image/png": "[encoded data removed]",
      "text/plain": [
       "<Figure size 432x288 with 2 Axes>"
      ]
     },
     "metadata": {
      "needs_background": "light"
     },
     "output_type": "display_data"
    }
   ],
   "source": [
    "#plotting confusion matrix for SGDClassifier\n",
    "from sklearn.metrics import plot_confusion_matrix\n",
    "\n",
    "conf_mat = plot_confusion_matrix(forest, X_val_scaled, y_val, cmap='Oranges', values_format='d')"
   ]
  },
  {
   "cell_type": "code",
   "execution_count": 26,
   "metadata": {},
   "outputs": [
    {
     "data": {
      "text/plain": [
       "array([[1062,    0,    7,   43,    4,    1,  107,    0,    8,    0],\n",
       "       [   2, 1126,    2,   35,    0,    0,    9,    0,    0,    0],\n",
       "       [   6,    2, 1000,   16,  116,    0,   49,    0,   11,    0],\n",
       "       [  21,    4,    6, 1143,   42,    0,   23,    0,    3,    0],\n",
       "       [   4,    2,  100,   56,  966,    0,   53,    0,    4,    0],\n",
       "       [   0,    0,    0,    0,    0, 1102,    0,   24,    5,   10],\n",
       "       [ 203,    2,  151,   34,  134,    2,  698,    0,   19,    0],\n",
       "       [   0,    0,    0,    0,    0,   33,    0, 1147,    2,   42],\n",
       "       [   2,    0,    4,    2,    2,    4,   11,    1, 1123,    0],\n",
       "       [   0,    0,    0,    0,    0,   11,    0,   43,    2, 1154]],\n",
       "      dtype=int64)"
      ]
     },
     "execution_count": 26,
     "metadata": {},
     "output_type": "execute_result"
    }
   ],
   "source": [
    "conf_mat.confusion_matrix"
   ]
  },
  {
   "cell_type": "markdown",
   "metadata": {},
   "source": [
    "from the representation shown above it shows that the RandomForestClassifier also perfoms fairly good on new instances."
   ]
  },
  {
   "cell_type": "code",
   "execution_count": 30,
   "metadata": {},
   "outputs": [
    {
     "name": "stdout",
     "output_type": "stream",
     "text": [
      "Precision Score:\n",
      " [0.81692308 0.99119718 0.78740157 0.86004515 0.76424051 0.95576756\n",
      " 0.73473684 0.94403292 0.95412065 0.95688226]\n",
      "Recall Score:\n",
      " [0.86201299 0.95911414 0.83333333 0.92028986 0.81518987 0.96581946\n",
      " 0.56154465 0.9370915  0.97737163 0.95371901]\n"
     ]
    }
   ],
   "source": [
    "#PRECISION AND RECALL SCORE\n",
    "from sklearn.metrics import precision_score, recall_score\n",
    "print('Precision Score:\\n', precision_score(y_val, y_val_predictions, average=None))\n",
    "print('Recall Score:\\n', recall_score(y_val, y_val_predictions, average=None))"
   ]
  },
  {
   "cell_type": "markdown",
   "metadata": {},
   "source": [
    "# Observation on Precision and Recall Score\n",
    "since we trained a multiclass classification and not binary classifier, setting the average=None will return the precision scores for each class.\n",
    "while also setting the average='micro' will return the total ratio of tp/(tp+fp)"
   ]
  },
  {
   "cell_type": "markdown",
   "metadata": {},
   "source": [
    "FITTING MODEL TO TEST SET"
   ]
  },
  {
   "cell_type": "code",
   "execution_count": 31,
   "metadata": {},
   "outputs": [
    {
     "data": {
      "text/plain": [
       "RandomForestClassifier(bootstrap=True, ccp_alpha=0.0, class_weight=None,\n",
       "                       criterion='gini', max_depth=None, max_features='auto',\n",
       "                       max_leaf_nodes=None, max_samples=None,\n",
       "                       min_impurity_decrease=0.0, min_impurity_split=None,\n",
       "                       min_samples_leaf=1, min_samples_split=2,\n",
       "                       min_weight_fraction_leaf=0.0, n_estimators=100,\n",
       "                       n_jobs=None, oob_score=False, random_state=None,\n",
       "                       verbose=0, warm_start=False)"
      ]
     },
     "execution_count": 31,
     "metadata": {},
     "output_type": "execute_result"
    }
   ],
   "source": [
    "import joblib\n",
    "joblib.load('fashion_mnist_forest_clf.pkl')"
   ]
  },
  {
   "cell_type": "code",
   "execution_count": 36,
   "metadata": {},
   "outputs": [],
   "source": [
    "x_test = test_set.drop('label', axis=1)\n",
    "y_test = test_set['label'].copy()\n",
    "X_test = scaler.transform(x_test)\n",
    "\n",
    "y_test_predictions = forest.predict(X_test)"
   ]
  },
  {
   "cell_type": "code",
   "execution_count": 40,
   "metadata": {},
   "outputs": [],
   "source": [
    "y_test_predicted = pd.DataFrame(y_test_predictions, columns=['Predicted Label'])"
   ]
  },
  {
   "cell_type": "code",
   "execution_count": 41,
   "metadata": {},
   "outputs": [
    {
     "data": {
      "image/png": "[encoded data removed]",
      "text/plain": [
       "<Figure size 432x288 with 2 Axes>"
      ]
     },
     "metadata": {
      "needs_background": "light"
     },
     "output_type": "display_data"
    }
   ],
   "source": [
    "#plotting confusion matrix for SGDClassifier\n",
    "from sklearn.metrics import plot_confusion_matrix\n",
    "\n",
    "conf_mat = plot_confusion_matrix(forest, X_test, y_test, cmap='Reds', values_format='d')"
   ]
  },
  {
   "cell_type": "code",
   "execution_count": 42,
   "metadata": {},
   "outputs": [
    {
     "data": {
      "text/html": [
       "<div>\n",
       "<style scoped>\n",
       "    .dataframe tbody tr th:only-of-type {\n",
       "        vertical-align: middle;\n",
       "    }\n",
       "\n",
       "    .dataframe tbody tr th {\n",
       "        vertical-align: top;\n",
       "    }\n",
       "\n",
       "    .dataframe thead th {\n",
       "        text-align: right;\n",
       "    }\n",
       "</style>\n",
       "<table border=\"1\" class=\"dataframe\">\n",
       "  <thead>\n",
       "    <tr style=\"text-align: right;\">\n",
       "      <th></th>\n",
       "      <th>Predicted Label</th>\n",
       "    </tr>\n",
       "  </thead>\n",
       "  <tbody>\n",
       "    <tr>\n",
       "      <th>0</th>\n",
       "      <td>0</td>\n",
       "    </tr>\n",
       "    <tr>\n",
       "      <th>1</th>\n",
       "      <td>1</td>\n",
       "    </tr>\n",
       "    <tr>\n",
       "      <th>2</th>\n",
       "      <td>2</td>\n",
       "    </tr>\n",
       "    <tr>\n",
       "      <th>3</th>\n",
       "      <td>2</td>\n",
       "    </tr>\n",
       "    <tr>\n",
       "      <th>4</th>\n",
       "      <td>3</td>\n",
       "    </tr>\n",
       "  </tbody>\n",
       "</table>\n",
       "</div>"
      ],
      "text/plain": [
       "   Predicted Label\n",
       "0                0\n",
       "1                1\n",
       "2                2\n",
       "3                2\n",
       "4                3"
      ]
     },
     "execution_count": 42,
     "metadata": {},
     "output_type": "execute_result"
    }
   ],
   "source": [
    "y_test_predicted.head()"
   ]
  },
  {
   "cell_type": "code",
   "execution_count": null,
   "metadata": {},
   "outputs": [],
   "source": [
    "y_test_predicted.to_csv('Fashion_mnist_predicted')"
   ]
  }
 ],
 "metadata": {
  "kernelspec": {
   "display_name": "Python 3",
   "language": "python",
   "name": "python3"
  },
  "language_info": {
   "codemirror_mode": {
    "name": "ipython",
    "version": 3
   },
   "file_extension": ".py",
   "mimetype": "text/x-python",
   "name": "python",
   "nbconvert_exporter": "python",
   "pygments_lexer": "ipython3",
   "version": "3.7.7"
  }
 },
 "nbformat": 4,
 "nbformat_minor": 4
}
