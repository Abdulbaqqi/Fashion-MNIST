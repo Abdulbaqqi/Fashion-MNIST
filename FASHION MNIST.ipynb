{
 "cells": [
  {
   "cell_type": "code",
   "execution_count": 79,
   "metadata": {},
   "outputs": [],
   "source": [
    "import pandas as pd\n",
    "import numpy as np\n",
    "import matplotlib.pyplot as plt\n",
    "%matplotlib inline"
   ]
  },
  {
   "cell_type": "markdown",
   "metadata": {},
   "source": [
    "# LABELS\n",
    "Each training and test example is assigned to one of the following labels:\n",
    "- 0 T-Shirt/top\n",
    "- 1 Trouser\n",
    "- 2 Pullover\n",
    "- 3 Dress\n",
    "- 4 Coat\n",
    "- 5 Sandal\n",
    "- 6 Shirt\n",
    "- 7 Sneaker\n",
    "- 8 Bag\n",
    "- 9 Angle boot"
   ]
  },
  {
   "cell_type": "code",
   "execution_count": 80,
   "metadata": {},
   "outputs": [
    {
     "name": "stdout",
     "output_type": "stream",
     "text": [
      "(60000, 28, 28, 1)\n",
      "(10000, 28, 28, 1)\n"
     ]
    }
   ],
   "source": [
    "img_rows, img_cols = 28, 28\n",
    "\n",
    "train_set = pd.read_csv('fashion-mnist_train.csv')\n",
    "test_set = pd.read_csv('fashion-mnist_test.csv')\n",
    "raw_train = np.array(train_set, dtype = 'float32')\n",
    "raw_test = np.array(test_set, dtype = 'float32')\n",
    "\n",
    "x_train = raw_train[:, 1:]/255.0\n",
    "y_train = raw_train[:, 0].astype('int32')\n",
    "\n",
    "x_test = raw_test[:, 1:]/255.0\n",
    "y_test = raw_test[:, 0].astype('int32')\n",
    "\n",
    "x_train = x_train.reshape(y_train.shape[0], img_rows, img_cols, 1)\n",
    "x_test = x_test.reshape(y_test.shape[0], img_rows, img_cols, 1)\n",
    "\n",
    "print(x_train.shape)\n",
    "print(x_test.shape)\n",
    "\n"
   ]
  },
  {
   "cell_type": "code",
   "execution_count": 81,
   "metadata": {},
   "outputs": [],
   "source": [
    "y_train_values = ['T-shirt/top', 'Trouser', 'Pullover', 'Dress', 'Coat', 'Sandal', 'Shirt',\n",
    "               'Sneaker', 'bag', 'Angle boot']"
   ]
  },
  {
   "cell_type": "code",
   "execution_count": 82,
   "metadata": {},
   "outputs": [
    {
     "data": {
      "text/plain": [
       "<matplotlib.image.AxesImage at 0x20bba982088>"
      ]
     },
     "execution_count": 82,
     "metadata": {},
     "output_type": "execute_result"
    },
    {
     "data": {
      "image/png": "[encoded data removed]",
      "text/plain": [
       "<Figure size 432x288 with 1 Axes>"
      ]
     },
     "metadata": {
      "needs_background": "light"
     },
     "output_type": "display_data"
    }
   ],
   "source": [
    "plt.imshow(x_train[50].reshape(28, 28))"
   ]
  },
  {
   "cell_type": "code",
   "execution_count": 83,
   "metadata": {},
   "outputs": [
    {
     "name": "stdout",
     "output_type": "stream",
     "text": [
      "5 ==> Sandal\n"
     ]
    }
   ],
   "source": [
    "print(f'{y_train[50]} ==> {y_train_values[y_train[50]]}')"
   ]
  },
  {
   "cell_type": "code",
   "execution_count": 84,
   "metadata": {},
   "outputs": [
    {
     "data": {
      "text/plain": [
       "<matplotlib.image.AxesImage at 0x20bba763a08>"
      ]
     },
     "execution_count": 84,
     "metadata": {},
     "output_type": "execute_result"
    },
    {
     "data": {
      "image/png": "[encoded data removed]",
      "text/plain": [
       "<Figure size 432x288 with 1 Axes>"
      ]
     },
     "metadata": {
      "needs_background": "light"
     },
     "output_type": "display_data"
    }
   ],
   "source": [
    "plt.imshow(x_train[10].reshape(28, 28))"
   ]
  },
  {
   "cell_type": "code",
   "execution_count": 85,
   "metadata": {},
   "outputs": [
    {
     "name": "stdout",
     "output_type": "stream",
     "text": [
      "0 ==> T-shirt/top\n"
     ]
    }
   ],
   "source": [
    "print(f'{y_train[10]} ==> {y_train_values[y_train[10]]}')"
   ]
  },
  {
   "cell_type": "code",
   "execution_count": 86,
   "metadata": {},
   "outputs": [],
   "source": [
    "#creating validation set from the train set\n",
    "\n",
    "from sklearn.model_selection import train_test_split\n",
    "\n",
    "x_train = train_set.drop('label', axis=1)\n",
    "y_train = train_set['label'].copy()\n",
    "X_train, X_val, y_train, y_val = train_test_split(x_train, y_train, test_size=0.2, random_state=42)"
   ]
  },
  {
   "cell_type": "code",
   "execution_count": 87,
   "metadata": {},
   "outputs": [
    {
     "name": "stdout",
     "output_type": "stream",
     "text": [
      "Length of Train set: 48000\n",
      "Length of Validation set: 12000\n"
     ]
    }
   ],
   "source": [
    "print(f'Length of Train set: {len(X_train)}')\n",
    "print(f'Length of Validation set: {len(X_val)}')#20% of the train set\n"
   ]
  },
  {
   "cell_type": "code",
   "execution_count": 88,
   "metadata": {},
   "outputs": [
    {
     "data": {
      "text/html": [
       "<div>\n",
       "<style scoped>\n",
       "    .dataframe tbody tr th:only-of-type {\n",
       "        vertical-align: middle;\n",
       "    }\n",
       "\n",
       "    .dataframe tbody tr th {\n",
       "        vertical-align: top;\n",
       "    }\n",
       "\n",
       "    .dataframe thead th {\n",
       "        text-align: right;\n",
       "    }\n",
       "</style>\n",
       "<table border=\"1\" class=\"dataframe\">\n",
       "  <thead>\n",
       "    <tr style=\"text-align: right;\">\n",
       "      <th></th>\n",
       "      <th>pixel1</th>\n",
       "      <th>pixel2</th>\n",
       "      <th>pixel3</th>\n",
       "      <th>pixel4</th>\n",
       "      <th>pixel5</th>\n",
       "      <th>pixel6</th>\n",
       "      <th>pixel7</th>\n",
       "      <th>pixel8</th>\n",
       "      <th>pixel9</th>\n",
       "      <th>pixel10</th>\n",
       "      <th>...</th>\n",
       "      <th>pixel775</th>\n",
       "      <th>pixel776</th>\n",
       "      <th>pixel777</th>\n",
       "      <th>pixel778</th>\n",
       "      <th>pixel779</th>\n",
       "      <th>pixel780</th>\n",
       "      <th>pixel781</th>\n",
       "      <th>pixel782</th>\n",
       "      <th>pixel783</th>\n",
       "      <th>pixel784</th>\n",
       "    </tr>\n",
       "  </thead>\n",
       "  <tbody>\n",
       "    <tr>\n",
       "      <th>48572</th>\n",
       "      <td>0</td>\n",
       "      <td>0</td>\n",
       "      <td>0</td>\n",
       "      <td>0</td>\n",
       "      <td>0</td>\n",
       "      <td>0</td>\n",
       "      <td>0</td>\n",
       "      <td>0</td>\n",
       "      <td>0</td>\n",
       "      <td>0</td>\n",
       "      <td>...</td>\n",
       "      <td>0</td>\n",
       "      <td>0</td>\n",
       "      <td>0</td>\n",
       "      <td>0</td>\n",
       "      <td>0</td>\n",
       "      <td>0</td>\n",
       "      <td>0</td>\n",
       "      <td>0</td>\n",
       "      <td>0</td>\n",
       "      <td>0</td>\n",
       "    </tr>\n",
       "    <tr>\n",
       "      <th>38696</th>\n",
       "      <td>0</td>\n",
       "      <td>0</td>\n",
       "      <td>0</td>\n",
       "      <td>0</td>\n",
       "      <td>0</td>\n",
       "      <td>0</td>\n",
       "      <td>0</td>\n",
       "      <td>0</td>\n",
       "      <td>0</td>\n",
       "      <td>0</td>\n",
       "      <td>...</td>\n",
       "      <td>0</td>\n",
       "      <td>0</td>\n",
       "      <td>0</td>\n",
       "      <td>0</td>\n",
       "      <td>0</td>\n",
       "      <td>0</td>\n",
       "      <td>0</td>\n",
       "      <td>0</td>\n",
       "      <td>0</td>\n",
       "      <td>0</td>\n",
       "    </tr>\n",
       "    <tr>\n",
       "      <th>13611</th>\n",
       "      <td>0</td>\n",
       "      <td>0</td>\n",
       "      <td>0</td>\n",
       "      <td>0</td>\n",
       "      <td>0</td>\n",
       "      <td>0</td>\n",
       "      <td>0</td>\n",
       "      <td>0</td>\n",
       "      <td>0</td>\n",
       "      <td>0</td>\n",
       "      <td>...</td>\n",
       "      <td>0</td>\n",
       "      <td>0</td>\n",
       "      <td>0</td>\n",
       "      <td>0</td>\n",
       "      <td>0</td>\n",
       "      <td>0</td>\n",
       "      <td>0</td>\n",
       "      <td>0</td>\n",
       "      <td>0</td>\n",
       "      <td>0</td>\n",
       "    </tr>\n",
       "    <tr>\n",
       "      <th>35213</th>\n",
       "      <td>0</td>\n",
       "      <td>0</td>\n",
       "      <td>0</td>\n",
       "      <td>0</td>\n",
       "      <td>0</td>\n",
       "      <td>0</td>\n",
       "      <td>0</td>\n",
       "      <td>0</td>\n",
       "      <td>0</td>\n",
       "      <td>0</td>\n",
       "      <td>...</td>\n",
       "      <td>0</td>\n",
       "      <td>0</td>\n",
       "      <td>0</td>\n",
       "      <td>0</td>\n",
       "      <td>0</td>\n",
       "      <td>0</td>\n",
       "      <td>0</td>\n",
       "      <td>0</td>\n",
       "      <td>0</td>\n",
       "      <td>0</td>\n",
       "    </tr>\n",
       "    <tr>\n",
       "      <th>31766</th>\n",
       "      <td>0</td>\n",
       "      <td>0</td>\n",
       "      <td>0</td>\n",
       "      <td>0</td>\n",
       "      <td>0</td>\n",
       "      <td>0</td>\n",
       "      <td>0</td>\n",
       "      <td>0</td>\n",
       "      <td>1</td>\n",
       "      <td>0</td>\n",
       "      <td>...</td>\n",
       "      <td>0</td>\n",
       "      <td>0</td>\n",
       "      <td>1</td>\n",
       "      <td>0</td>\n",
       "      <td>11</td>\n",
       "      <td>37</td>\n",
       "      <td>6</td>\n",
       "      <td>0</td>\n",
       "      <td>0</td>\n",
       "      <td>0</td>\n",
       "    </tr>\n",
       "  </tbody>\n",
       "</table>\n",
       "<p>5 rows × 784 columns</p>\n",
       "</div>"
      ],
      "text/plain": [
       "       pixel1  pixel2  pixel3  pixel4  pixel5  pixel6  pixel7  pixel8  pixel9  \\\n",
       "48572       0       0       0       0       0       0       0       0       0   \n",
       "38696       0       0       0       0       0       0       0       0       0   \n",
       "13611       0       0       0       0       0       0       0       0       0   \n",
       "35213       0       0       0       0       0       0       0       0       0   \n",
       "31766       0       0       0       0       0       0       0       0       1   \n",
       "\n",
       "       pixel10  ...  pixel775  pixel776  pixel777  pixel778  pixel779  \\\n",
       "48572        0  ...         0         0         0         0         0   \n",
       "38696        0  ...         0         0         0         0         0   \n",
       "13611        0  ...         0         0         0         0         0   \n",
       "35213        0  ...         0         0         0         0         0   \n",
       "31766        0  ...         0         0         1         0        11   \n",
       "\n",
       "       pixel780  pixel781  pixel782  pixel783  pixel784  \n",
       "48572         0         0         0         0         0  \n",
       "38696         0         0         0         0         0  \n",
       "13611         0         0         0         0         0  \n",
       "35213         0         0         0         0         0  \n",
       "31766        37         6         0         0         0  \n",
       "\n",
       "[5 rows x 784 columns]"
      ]
     },
     "execution_count": 88,
     "metadata": {},
     "output_type": "execute_result"
    }
   ],
   "source": [
    "X_train.head()"
   ]
  },
  {
   "cell_type": "code",
   "execution_count": 89,
   "metadata": {},
   "outputs": [
    {
     "data": {
      "text/plain": [
       "48572    5\n",
       "38696    7\n",
       "13611    8\n",
       "35213    5\n",
       "31766    2\n",
       "Name: label, dtype: int64"
      ]
     },
     "execution_count": 89,
     "metadata": {},
     "output_type": "execute_result"
    }
   ],
   "source": [
    "y_train.head()"
   ]
  },
  {
   "cell_type": "code",
   "execution_count": 90,
   "metadata": {},
   "outputs": [
    {
     "name": "stdout",
     "output_type": "stream",
     "text": [
      "<class 'pandas.core.frame.DataFrame'>\n",
      "Int64Index: 48000 entries, 48572 to 56422\n",
      "Columns: 784 entries, pixel1 to pixel784\n",
      "dtypes: int64(784)\n",
      "memory usage: 287.5 MB\n"
     ]
    }
   ],
   "source": [
    "X_train.info()"
   ]
  },
  {
   "cell_type": "code",
   "execution_count": 91,
   "metadata": {},
   "outputs": [
    {
     "name": "stdout",
     "output_type": "stream",
     "text": [
      "<class 'pandas.core.frame.DataFrame'>\n",
      "Int64Index: 12000 entries, 12628 to 36568\n",
      "Columns: 784 entries, pixel1 to pixel784\n",
      "dtypes: int64(784)\n",
      "memory usage: 71.9 MB\n"
     ]
    }
   ],
   "source": [
    "X_val.info()"
   ]
  },
  {
   "cell_type": "code",
   "execution_count": 92,
   "metadata": {},
   "outputs": [
    {
     "name": "stderr",
     "output_type": "stream",
     "text": [
      "c:\\users\\david\\appdata\\local\\programs\\python\\python37\\lib\\site-packages\\sklearn\\linear_model\\_logistic.py:940: ConvergenceWarning: lbfgs failed to converge (status=1):\n",
      "STOP: TOTAL NO. of ITERATIONS REACHED LIMIT.\n",
      "\n",
      "Increase the number of iterations (max_iter) or scale the data as shown in:\n",
      "    https://scikit-learn.org/stable/modules/preprocessing.html\n",
      "Please also refer to the documentation for alternative solver options:\n",
      "    https://scikit-learn.org/stable/modules/linear_model.html#logistic-regression\n",
      "  extra_warning_msg=_LOGISTIC_SOLVER_CONVERGENCE_MSG)\n",
      "c:\\users\\david\\appdata\\local\\programs\\python\\python37\\lib\\site-packages\\sklearn\\linear_model\\_stochastic_gradient.py:557: ConvergenceWarning: Maximum number of iteration reached before convergence. Consider increasing max_iter to improve the fit.\n",
      "  ConvergenceWarning)\n"
     ]
    },
    {
     "data": {
      "text/plain": [
       "RandomForestClassifier(bootstrap=True, ccp_alpha=0.0, class_weight=None,\n",
       "                       criterion='gini', max_depth=None, max_features='auto',\n",
       "                       max_leaf_nodes=None, max_samples=None,\n",
       "                       min_impurity_decrease=0.0, min_impurity_split=None,\n",
       "                       min_samples_leaf=1, min_samples_split=2,\n",
       "                       min_weight_fraction_leaf=0.0, n_estimators=100,\n",
       "                       n_jobs=None, oob_score=False, random_state=None,\n",
       "                       verbose=0, warm_start=False)"
      ]
     },
     "execution_count": 92,
     "metadata": {},
     "output_type": "execute_result"
    }
   ],
   "source": [
    "#scaling the train set\n",
    "from sklearn.preprocessing import StandardScaler\n",
    "scaler = StandardScaler()\n",
    "\n",
    "X_train_scaled = scaler.fit_transform(X_train)\n",
    "\n",
    "#training with logistic regression\n",
    "from sklearn.linear_model import LogisticRegression\n",
    "softmax = LogisticRegression(multi_class ='multinomial', solver='lbfgs', C=10)\n",
    "softmax.fit(X_train_scaled, y_train)\n",
    "    \n",
    "    \n",
    "#training with SGDCLASSIFIER\n",
    "from sklearn.linear_model import SGDClassifier\n",
    "sgd = SGDClassifier()\n",
    "sgd.fit(X_train_scaled, y_train)\n",
    "    \n",
    "#training with DecisionTreeClassifier\n",
    "from sklearn.tree import DecisionTreeClassifier\n",
    "tree = DecisionTreeClassifier()\n",
    "tree.fit(X_train_scaled, y_train)\n",
    "    \n",
    "#training with RandomForestClassifier\n",
    "from sklearn.ensemble import RandomForestClassifier\n",
    "forest = RandomForestClassifier()\n",
    "forest.fit(X_train_scaled, y_train)"
   ]
  },
  {
   "cell_type": "code",
   "execution_count": 93,
   "metadata": {},
   "outputs": [
    {
     "name": "stdout",
     "output_type": "stream",
     "text": [
      "SOFTMAX REGRESSION TESTING ACCURACY: 88.02499999999999%\n",
      "SGD CLASSIFIER TESTING ACCURACY: 85.06041666666667%\n",
      "DECISION TREE TESTING ACCURACY: 100.0%\n",
      "RANDOMFOREST TESTING ACCURACY: 100.0%\n"
     ]
    }
   ],
   "source": [
    "print(f'SOFTMAX REGRESSION TESTING ACCURACY: {(softmax.score(X_train_scaled, y_train)*100)}%')\n",
    "print(f'SGD CLASSIFIER TESTING ACCURACY: {(sgd.score(X_train_scaled, y_train)*100)}%')\n",
    "print(f'DECISION TREE TESTING ACCURACY: {(tree.score(X_train_scaled, y_train)*100)}%')\n",
    "print(f'RANDOMFOREST TESTING ACCURACY: {(forest.score(X_train_scaled, y_train)*100)}%')"
   ]
  },
  {
   "cell_type": "markdown",
   "metadata": {},
   "source": [
    "## Cross Validation Scores "
   ]
  },
  {
   "cell_type": "code",
   "execution_count": 95,
   "metadata": {},
   "outputs": [
    {
     "name": "stderr",
     "output_type": "stream",
     "text": [
      "c:\\users\\david\\appdata\\local\\programs\\python\\python37\\lib\\site-packages\\sklearn\\linear_model\\_logistic.py:940: ConvergenceWarning: lbfgs failed to converge (status=1):\n",
      "STOP: TOTAL NO. of ITERATIONS REACHED LIMIT.\n",
      "\n",
      "Increase the number of iterations (max_iter) or scale the data as shown in:\n",
      "    https://scikit-learn.org/stable/modules/preprocessing.html\n",
      "Please also refer to the documentation for alternative solver options:\n",
      "    https://scikit-learn.org/stable/modules/linear_model.html#logistic-regression\n",
      "  extra_warning_msg=_LOGISTIC_SOLVER_CONVERGENCE_MSG)\n",
      "c:\\users\\david\\appdata\\local\\programs\\python\\python37\\lib\\site-packages\\sklearn\\linear_model\\_logistic.py:940: ConvergenceWarning: lbfgs failed to converge (status=1):\n",
      "STOP: TOTAL NO. of ITERATIONS REACHED LIMIT.\n",
      "\n",
      "Increase the number of iterations (max_iter) or scale the data as shown in:\n",
      "    https://scikit-learn.org/stable/modules/preprocessing.html\n",
      "Please also refer to the documentation for alternative solver options:\n",
      "    https://scikit-learn.org/stable/modules/linear_model.html#logistic-regression\n",
      "  extra_warning_msg=_LOGISTIC_SOLVER_CONVERGENCE_MSG)\n",
      "c:\\users\\david\\appdata\\local\\programs\\python\\python37\\lib\\site-packages\\sklearn\\linear_model\\_logistic.py:940: ConvergenceWarning: lbfgs failed to converge (status=1):\n",
      "STOP: TOTAL NO. of ITERATIONS REACHED LIMIT.\n",
      "\n",
      "Increase the number of iterations (max_iter) or scale the data as shown in:\n",
      "    https://scikit-learn.org/stable/modules/preprocessing.html\n",
      "Please also refer to the documentation for alternative solver options:\n",
      "    https://scikit-learn.org/stable/modules/linear_model.html#logistic-regression\n",
      "  extra_warning_msg=_LOGISTIC_SOLVER_CONVERGENCE_MSG)\n",
      "c:\\users\\david\\appdata\\local\\programs\\python\\python37\\lib\\site-packages\\sklearn\\linear_model\\_stochastic_gradient.py:557: ConvergenceWarning: Maximum number of iteration reached before convergence. Consider increasing max_iter to improve the fit.\n",
      "  ConvergenceWarning)\n",
      "c:\\users\\david\\appdata\\local\\programs\\python\\python37\\lib\\site-packages\\sklearn\\linear_model\\_stochastic_gradient.py:557: ConvergenceWarning: Maximum number of iteration reached before convergence. Consider increasing max_iter to improve the fit.\n",
      "  ConvergenceWarning)\n",
      "c:\\users\\david\\appdata\\local\\programs\\python\\python37\\lib\\site-packages\\sklearn\\linear_model\\_stochastic_gradient.py:557: ConvergenceWarning: Maximum number of iteration reached before convergence. Consider increasing max_iter to improve the fit.\n",
      "  ConvergenceWarning)\n"
     ]
    },
    {
     "name": "stdout",
     "output_type": "stream",
     "text": [
      "SOFTMAX REGRESSION CROSS VALIDATION\n",
      "\n",
      "Scores: [0.8456875 0.836     0.843625 ]\n",
      "Mean: 0.8417708333333334\n",
      "Standard Deviation: 0.004166562498697905\n",
      "====================\n",
      "SGDCLASSIFIER CROSS VALIDATION\n",
      "\n",
      "Scores: [0.834375 0.830375 0.828625]\n",
      "Mean: 0.831125\n",
      "Standard Deviation: 0.0024065881796989535\n",
      "DECISION TREE CROSS VALIDATION\n",
      "\n",
      "Scores: [0.7870625 0.7791875 0.7841875]\n",
      "Mean: 0.7834791666666666\n",
      "Standard Deviation: 0.003253737167559094\n",
      "====================\n",
      "RANDOMFOREST CROSS VALIDATION\n",
      "\n",
      "Scores: [0.8780625 0.8735    0.8755625]\n",
      "Mean: 0.8757083333333333\n",
      "Standard Deviation: 0.0018654851171269339\n"
     ]
    }
   ],
   "source": [
    "from sklearn.model_selection import cross_val_score\n",
    "softmax_scores = cross_val_score(softmax, X_train_scaled, y_train, cv=3, scoring='accuracy')\n",
    "\n",
    "sgd_scores = cross_val_score(sgd, X_train_scaled, y_train, cv=3, scoring='accuracy')\n",
    "\n",
    "tree_scores = cross_val_score(tree, X_train_scaled, y_train, cv=3, scoring='accuracy')\n",
    "\n",
    "forest_scores = cross_val_score(forest, X_train_scaled, y_train, cv=3, scoring='accuracy')\n",
    "\n",
    "\n",
    "print('SOFTMAX REGRESSION CROSS VALIDATION\\n')\n",
    "print('Scores:', softmax_scores)\n",
    "print('Mean:', softmax_scores.mean())\n",
    "print('Standard Deviation:', softmax_scores.std())\n",
    "print('='*20)\n",
    "print('SGDCLASSIFIER CROSS VALIDATION\\n')\n",
    "print('Scores:', sgd_scores)\n",
    "print('Mean:', sgd_scores.mean())\n",
    "print('Standard Deviation:', sgd_scores.std())\n",
    "print('DECISION TREE CROSS VALIDATION\\n')\n",
    "print('Scores:', tree_scores)\n",
    "print('Mean:', tree_scores.mean())\n",
    "print('Standard Deviation:', tree_scores.std())\n",
    "print('='*20)\n",
    "print('RANDOMFOREST CROSS VALIDATION\\n')\n",
    "print('Scores:', forest_scores)\n",
    "print('Mean:', forest_scores.mean())\n",
    "print('Standard Deviation:', forest_scores.std())"
   ]
  },
  {
   "cell_type": "code",
   "execution_count": 96,
   "metadata": {},
   "outputs": [
    {
     "data": {
      "text/plain": [
       "['fashion_mnist_forest_clf.pkl']"
      ]
     },
     "execution_count": 96,
     "metadata": {},
     "output_type": "execute_result"
    }
   ],
   "source": [
    "#saving the models\n",
    "import joblib\n",
    "\n",
    "#softmax\n",
    "joblib.dump(softmax, 'fashion_mnist_softmax_clf.pkl')\n",
    "\n",
    "#sgd\n",
    "joblib.dump(sgd, 'fashion_mnist_sgd_clf.pkl')\n",
    "\n",
    "#tree\n",
    "joblib.dump(tree, 'fashion_mnist_tree_clf.pkl')\n",
    "\n",
    "#forest\n",
    "joblib.dump(forest, 'fashion_mnist_forest_clf.pkl')"
   ]
  },
  {
   "cell_type": "code",
   "execution_count": 97,
   "metadata": {},
   "outputs": [
    {
     "name": "stderr",
     "output_type": "stream",
     "text": [
      "c:\\users\\david\\appdata\\local\\programs\\python\\python37\\lib\\site-packages\\sklearn\\linear_model\\_logistic.py:940: ConvergenceWarning: lbfgs failed to converge (status=1):\n",
      "STOP: TOTAL NO. of ITERATIONS REACHED LIMIT.\n",
      "\n",
      "Increase the number of iterations (max_iter) or scale the data as shown in:\n",
      "    https://scikit-learn.org/stable/modules/preprocessing.html\n",
      "Please also refer to the documentation for alternative solver options:\n",
      "    https://scikit-learn.org/stable/modules/linear_model.html#logistic-regression\n",
      "  extra_warning_msg=_LOGISTIC_SOLVER_CONVERGENCE_MSG)\n",
      "c:\\users\\david\\appdata\\local\\programs\\python\\python37\\lib\\site-packages\\sklearn\\linear_model\\_logistic.py:940: ConvergenceWarning: lbfgs failed to converge (status=1):\n",
      "STOP: TOTAL NO. of ITERATIONS REACHED LIMIT.\n",
      "\n",
      "Increase the number of iterations (max_iter) or scale the data as shown in:\n",
      "    https://scikit-learn.org/stable/modules/preprocessing.html\n",
      "Please also refer to the documentation for alternative solver options:\n",
      "    https://scikit-learn.org/stable/modules/linear_model.html#logistic-regression\n",
      "  extra_warning_msg=_LOGISTIC_SOLVER_CONVERGENCE_MSG)\n",
      "c:\\users\\david\\appdata\\local\\programs\\python\\python37\\lib\\site-packages\\sklearn\\linear_model\\_logistic.py:940: ConvergenceWarning: lbfgs failed to converge (status=1):\n",
      "STOP: TOTAL NO. of ITERATIONS REACHED LIMIT.\n",
      "\n",
      "Increase the number of iterations (max_iter) or scale the data as shown in:\n",
      "    https://scikit-learn.org/stable/modules/preprocessing.html\n",
      "Please also refer to the documentation for alternative solver options:\n",
      "    https://scikit-learn.org/stable/modules/linear_model.html#logistic-regression\n",
      "  extra_warning_msg=_LOGISTIC_SOLVER_CONVERGENCE_MSG)\n",
      "c:\\users\\david\\appdata\\local\\programs\\python\\python37\\lib\\site-packages\\sklearn\\linear_model\\_stochastic_gradient.py:557: ConvergenceWarning: Maximum number of iteration reached before convergence. Consider increasing max_iter to improve the fit.\n",
      "  ConvergenceWarning)\n",
      "c:\\users\\david\\appdata\\local\\programs\\python\\python37\\lib\\site-packages\\sklearn\\linear_model\\_stochastic_gradient.py:557: ConvergenceWarning: Maximum number of iteration reached before convergence. Consider increasing max_iter to improve the fit.\n",
      "  ConvergenceWarning)\n",
      "c:\\users\\david\\appdata\\local\\programs\\python\\python37\\lib\\site-packages\\sklearn\\linear_model\\_stochastic_gradient.py:557: ConvergenceWarning: Maximum number of iteration reached before convergence. Consider increasing max_iter to improve the fit.\n",
      "  ConvergenceWarning)\n"
     ]
    }
   ],
   "source": [
    "from sklearn.metrics import confusion_matrix\n",
    "from sklearn.model_selection import cross_val_predict\n",
    "\n",
    "softmax_predictions = cross_val_predict(softmax, X_train_scaled, y_train, cv=3)\n",
    "softmax_confusion_matrix = confusion_matrix(y_train, softmax_predictions)\n",
    "\n",
    "sgd_predictions = cross_val_predict(sgd, X_train_scaled, y_train, cv=3)\n",
    "sgd_confusion_matrix = confusion_matrix(y_train, sgd_predictions)\n",
    "\n",
    "tree_predictions = cross_val_predict(tree, X_train_scaled, y_train, cv=3)\n",
    "tree_confusion_matrix = confusion_matrix(y_train, tree_predictions)\n",
    "\n",
    "forest_predictions = cross_val_predict(forest, X_train_scaled, y_train, cv=3)\n",
    "forest_confusion_matrix = confusion_matrix(y_train, forest_predictions)"
   ]
  },
  {
   "cell_type": "code",
   "execution_count": 99,
   "metadata": {},
   "outputs": [
    {
     "name": "stdout",
     "output_type": "stream",
     "text": [
      "LOGISTIC REGRESSION(SOFTMAX) CONFUSION MATRIX: \n",
      " [[3850   23  101  230   23    7  462    5   64    3]\n",
      " [  19 4663   23   87   13    0   15    2    4    0]\n",
      " [ 104   18 3539   62  559    8  472    4   33    1]\n",
      " [ 196   68   59 4086  156    2  161    5   23    2]\n",
      " [  22   12  474  187 3638    2  449    0   31    0]\n",
      " [   3    1    1    6    0 4481    6  204   44  113]\n",
      " [ 677   14  549  175  478    3 2765    4   87    5]\n",
      " [   0    0    1    0    0  191    0 4388   16  180]\n",
      " [  41    7   36   42   37   41  102   36 4490   19]\n",
      " [   0    0    0    1    0   97    0  180    7 4505]]\n",
      "-------------------------------------------------------------------------------\n",
      "SGD CLASSIFIER CONFUSION MATRIX: \n",
      " [[3747   20   90  353   24    1  456    0   77    0]\n",
      " [  14 4566   35  163   16    0   28    0    4    0]\n",
      " [  37    6 3494   76  606    0  534    0   47    0]\n",
      " [ 181   63   66 4111  159    0  167    0   11    0]\n",
      " [   7    4  535  291 3517    0  440    0   21    0]\n",
      " [   2    1    2    8    0 4456   14  219   61   96]\n",
      " [ 622   12  552  317  421    0 2682    1  150    0]\n",
      " [   0    0    0    0    0  203    0 4367   16  190]\n",
      " [  17    4   23  100   23    4  104   24 4547    5]\n",
      " [   0    0    0    3    1   91    5  191    3 4496]]\n",
      "-------------------------------------------------------------------------------\n",
      "DECISIONTREE CLASSIFIER CONFUSION MATRIX: \n",
      " [[3506   38  120  242   63   10  728    3   54    4]\n",
      " [  32 4567   17  132   27    6   30    2   12    1]\n",
      " [ 111   19 3223   71  706    9  591    1   63    6]\n",
      " [ 249  159   95 3704  270    7  220    1   49    4]\n",
      " [  57   23  745  251 3112    6  559    3   58    1]\n",
      " [  12    9    5    7    0 4285   14  286   77  164]\n",
      " [ 737   35  610  201  583    9 2449    0  127    6]\n",
      " [   0    0    2    3    0  315    1 4081   27  347]\n",
      " [  56   14   58   44   50   72  135   39 4353   30]\n",
      " [   3    0    9    6    5  133    8  320   18 4288]]\n",
      "-------------------------------------------------------------------------------\n",
      "RANDOMFOREST CLASSIFIER CONFUSION MATRIX: \n",
      " [[4090    5   63  165   21    2  374    0   48    0]\n",
      " [  12 4657   15   98   12    0   29    0    3    0]\n",
      " [  37    1 3885   43  553    2  245    0   34    0]\n",
      " [ 107   21   38 4338  144    0  101    0    9    0]\n",
      " [   6    6  388  203 3978    1  214    0   19    0]\n",
      " [   0    0    0    2    0 4638    1  152   16   50]\n",
      " [ 775    9  571  121  457    1 2743    0   80    0]\n",
      " [   0    0    0    0    0   81    0 4466    6  223]\n",
      " [   5    4   19   19   23   16   57    9 4695    4]\n",
      " [   0    0    0    1    1   57    3  175    4 4549]]\n",
      "-------------------------------------------------------------------------------\n"
     ]
    }
   ],
   "source": [
    "print('LOGISTIC REGRESSION(SOFTMAX) CONFUSION MATRIX: \\n', softmax_confusion_matrix)\n",
    "print('-------------------------------------------------------------------------------')\n",
    "print('SGD CLASSIFIER CONFUSION MATRIX: \\n', sgd_confusion_matrix)\n",
    "print('-------------------------------------------------------------------------------')\n",
    "print('DECISIONTREE CLASSIFIER CONFUSION MATRIX: \\n', tree_confusion_matrix)\n",
    "print('-------------------------------------------------------------------------------')\n",
    "print('RANDOMFOREST CLASSIFIER CONFUSION MATRIX: \\n', forest_confusion_matrix)\n",
    "print('-------------------------------------------------------------------------------')"
   ]
  },
  {
   "cell_type": "code",
   "execution_count": null,
   "metadata": {},
   "outputs": [],
   "source": []
  },
  {
   "cell_type": "code",
   "execution_count": 103,
   "metadata": {},
   "outputs": [
    {
     "data": {
      "text/plain": [
       "<matplotlib.image.AxesImage at 0x20b86af9d48>"
      ]
     },
     "execution_count": 103,
     "metadata": {},
     "output_type": "execute_result"
    },
    {
     "data": {
      "image/png": "[encoded data removed]",
      "text/plain": [
       "<Figure size 288x288 with 1 Axes>"
      ]
     },
     "metadata": {
      "needs_background": "light"
     },
     "output_type": "display_data"
    }
   ],
   "source": [
    "#lets take a look at image representation of the confusion matrix for RandomForestClassifier Model\n",
    "#using the matplotlib's matshow() function\n",
    "\n",
    "plt.matshow(forest_confusion_matrix, cmap=plt.cm.gray)"
   ]
  },
  {
   "cell_type": "markdown",
   "metadata": {},
   "source": [
    "from above the confusion matrix looks fairly good since most images are on the main diagonal, i.e they were classified correctly.\n",
    "some look slightly darker like the 6 than the other, which could be that the model doesn't perform well on them or there are fewer images of 6 in the dateset.\n",
    "we can verify both focusing on only the error as shown below"
   ]
  },
  {
   "cell_type": "code",
   "execution_count": 105,
   "metadata": {},
   "outputs": [
    {
     "data": {
      "text/plain": [
       "<matplotlib.image.AxesImage at 0x20b86aa1c88>"
      ]
     },
     "execution_count": 105,
     "metadata": {},
     "output_type": "execute_result"
    },
    {
     "data": {
      "image/png": "[encoded data removed]",
      "text/plain": [
       "<Figure size 288x288 with 1 Axes>"
      ]
     },
     "metadata": {
      "needs_background": "light"
     },
     "output_type": "display_data"
    }
   ],
   "source": [
    "row_sums = forest_confusion_matrix.sum(axis=1, keepdims=True)\n",
    "norm_conf_mx = forest_confusion_matrix / row_sums\n",
    "\n",
    "np.fill_diagonal(norm_conf_mx, 0)\n",
    "plt.matshow(norm_conf_mx, cmap=plt.cm.gray)"
   ]
  },
  {
   "cell_type": "markdown",
   "metadata": {},
   "source": [
    "the image representation above clearly show the errors the randomforest classifier makes.\n",
    "Rows represent the actual class\n",
    "Columns represent the predicted classes\n",
    "row 6 shows that there were fewer classes of values assigned to 6's is the dataset"
   ]
  },
  {
   "cell_type": "markdown",
   "metadata": {},
   "source": [
    "## Fitting the RandomForestClassifier on the Validation set"
   ]
  },
  {
   "cell_type": "code",
   "execution_count": 106,
   "metadata": {},
   "outputs": [],
   "source": [
    "X_val_scaled = scaler.transform(X_val)"
   ]
  },
  {
   "cell_type": "code",
   "execution_count": 107,
   "metadata": {},
   "outputs": [],
   "source": [
    "X_val_predictions = forest.predict(X_val_scaled)"
   ]
  },
  {
   "cell_type": "code",
   "execution_count": 109,
   "metadata": {},
   "outputs": [
    {
     "name": "stdout",
     "output_type": "stream",
     "text": [
      "Scores: [0.8575  0.84725 0.84825]\n",
      "Mean: 0.851\n",
      "Standard Deviation: 0.004614289399969086\n",
      "\n",
      "\n"
     ]
    }
   ],
   "source": [
    "val_scores = cross_val_score(forest, X_val_scaled, y_val, cv=3, scoring='accuracy')\n",
    "\n",
    "print('Scores:', val_scores)\n",
    "print('Mean:', val_scores.mean())\n",
    "print('Standard Deviation:', val_scores.std())\n",
    "print('\\n')\n"
   ]
  },
  {
   "cell_type": "code",
   "execution_count": 111,
   "metadata": {},
   "outputs": [
    {
     "data": {
      "text/plain": [
       "array([[1056,    0,    9,   46,    4,    2,  108,    0,    7,    0],\n",
       "       [   1, 1128,    2,   34,    2,    0,    7,    0,    0,    0],\n",
       "       [   5,    1,  991,   17,  122,    0,   54,    0,   10,    0],\n",
       "       [  19,    3,    6, 1147,   36,    0,   28,    0,    3,    0],\n",
       "       [   3,    2,   97,   48,  969,    0,   62,    0,    4,    0],\n",
       "       [   0,    0,    0,    0,    0, 1103,    0,   24,    4,   10],\n",
       "       [ 205,    1,  148,   30,  129,    2,  708,    0,   20,    0],\n",
       "       [   0,    0,    0,    0,    0,   29,    0, 1153,    3,   39],\n",
       "       [   2,    0,    4,    1,    2,    2,    7,    3, 1128,    0],\n",
       "       [   0,    0,    0,    0,    0,   13,    0,   40,    2, 1155]],\n",
       "      dtype=int64)"
      ]
     },
     "execution_count": 111,
     "metadata": {},
     "output_type": "execute_result"
    }
   ],
   "source": [
    "val_conf = confusion_matrix(y_val, X_val_predictions)\n",
    "val_conf"
   ]
  },
  {
   "cell_type": "code",
   "execution_count": 112,
   "metadata": {},
   "outputs": [
    {
     "data": {
      "text/plain": [
       "<matplotlib.image.AxesImage at 0x20bba7d6888>"
      ]
     },
     "execution_count": 112,
     "metadata": {},
     "output_type": "execute_result"
    },
    {
     "data": {
      "image/png": "[encoded data removed]",
      "text/plain": [
       "<Figure size 288x288 with 1 Axes>"
      ]
     },
     "metadata": {
      "needs_background": "light"
     },
     "output_type": "display_data"
    }
   ],
   "source": [
    "plt.matshow(val_conf, cmap=plt.cm.gray)"
   ]
  },
  {
   "cell_type": "code",
   "execution_count": 113,
   "metadata": {},
   "outputs": [
    {
     "data": {
      "text/plain": [
       "<matplotlib.image.AxesImage at 0x20bba713f88>"
      ]
     },
     "execution_count": 113,
     "metadata": {},
     "output_type": "execute_result"
    },
    {
     "data": {
      "image/png": "[encoded data removed]",
      "text/plain": [
       "<Figure size 288x288 with 1 Axes>"
      ]
     },
     "metadata": {
      "needs_background": "light"
     },
     "output_type": "display_data"
    }
   ],
   "source": [
    "#focusing on only the errors\n",
    "row_sums = val_conf.sum(axis=1, keepdims=True)\n",
    "norm_conf_mx = val_conf / row_sums\n",
    "\n",
    "np.fill_diagonal(norm_conf_mx, 0)\n",
    "plt.matshow(norm_conf_mx, cmap=plt.cm.gray)"
   ]
  },
  {
   "cell_type": "markdown",
   "metadata": {},
   "source": [
    "from the representation shown above it shows that the RandomForestClassifier also perfoms fairly good on new instances."
   ]
  },
  {
   "cell_type": "markdown",
   "metadata": {},
   "source": []
  },
  {
   "cell_type": "code",
   "execution_count": 121,
   "metadata": {},
   "outputs": [
    {
     "name": "stdout",
     "output_type": "stream",
     "text": [
      "Precision Score:\n",
      " [0.81797057 0.9938326  0.78838504 0.86696901 0.76661392 0.95829713\n",
      " 0.72689938 0.94508197 0.95512278 0.95930233]\n",
      "Recall Score:\n",
      " [0.85714286 0.96081772 0.82583333 0.92351047 0.81772152 0.96669588\n",
      " 0.5695897  0.94199346 0.98172324 0.95454545]\n"
     ]
    }
   ],
   "source": [
    "#PRECISION AND RECALL SCORE\n",
    "from sklearn.metrics import precision_score, recall_score\n",
    "print('Precision Score:\\n', precision_score(y_val, X_val_predictions, average=None))\n",
    "print('Recall Score:\\n', recall_score(y_val, X_val_predictions, average=None))"
   ]
  },
  {
   "cell_type": "markdown",
   "metadata": {},
   "source": [
    "# Observation on Precision and Recall Score\n",
    "since we trained a multiclass classification and not binary classifier, setting the average=None will return the precision scores for each class.\n",
    "while also setting the average='micro' will return the total ratio of tp/(tp+fp)"
   ]
  },
  {
   "cell_type": "code",
   "execution_count": null,
   "metadata": {},
   "outputs": [],
   "source": [
    "from sklearn.metrics import precision_recall_curve\n",
    "\n",
    "y_forest_proba = cross_val_predict(forest_clf, x_val_scaled, y_val, cv=5,\n",
    "                                           method='predict_proba')\n",
    "y_scores = y_forest_proba[:, 1]# gets the positive probabilities\n",
    "\n",
    "precisions, recalls, thresholds = precision_recall_curve(y_val, y_scores)\n",
    "\n",
    "def plot_precision_recall_vs_threshold(precisions, recalls, thresholds):\n",
    "    plt.xlabel('Threshold')\n",
    "    plt.plot(thresholds, precisions[:-1], 'b--', label='Precision')\n",
    "    plt.plot(thresholds, recalls[:-1], 'g-', label='Recall')\n",
    "    plt.legend(fontsize=20)\n",
    "    plt.grid()\n",
    "\n",
    "    \n",
    "plot_precision_recall_vs_threshold(precisions, recalls, thresholds)"
   ]
  }
 ],
 "metadata": {
  "kernelspec": {
   "display_name": "Python 3",
   "language": "python",
   "name": "python3"
  },
  "language_info": {
   "codemirror_mode": {
    "name": "ipython",
    "version": 3
   },
   "file_extension": ".py",
   "mimetype": "text/x-python",
   "name": "python",
   "nbconvert_exporter": "python",
   "pygments_lexer": "ipython3",
   "version": "3.7.7"
  }
 },
 "nbformat": 4,
 "nbformat_minor": 4
}
